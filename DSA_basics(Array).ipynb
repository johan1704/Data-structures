{
  "nbformat": 4,
  "nbformat_minor": 0,
  "metadata": {
    "colab": {
      "name": "DSA_basics(Array).ipynb",
      "provenance": [],
      "authorship_tag": "ABX9TyMLSOQQMQr5XPqLlj2KQpVX",
      "include_colab_link": true
    },
    "kernelspec": {
      "name": "python3",
      "display_name": "Python 3"
    },
    "language_info": {
      "name": "python"
    }
  },
  "cells": [
    {
      "cell_type": "markdown",
      "metadata": {
        "id": "view-in-github",
        "colab_type": "text"
      },
      "source": [
        "<a href=\"https://colab.research.google.com/github/johan1704/Data-structures/blob/main/DSA_basics(Array).ipynb\" target=\"_parent\"><img src=\"https://colab.research.google.com/assets/colab-badge.svg\" alt=\"Open In Colab\"/></a>"
      ]
    },
    {
      "cell_type": "code",
      "metadata": {
        "colab": {
          "base_uri": "https://localhost:8080/"
        },
        "id": "v1do3AvBuAR_",
        "outputId": "9b8afa2b-8c34-4a55-9218-517556cb4230"
      },
      "source": [
        "#Rotation of an array by three(left rotation)\n",
        "\n",
        "arr=[1,2,3,4,5,6,7,8,9]\n",
        "n=3\n",
        "for i in range(0,len(arr)):\n",
        "  print(arr[i],end=' ')\n",
        "for i in range(0,n):\n",
        "  first=arr[0]\n",
        "  for j in range(0,len(arr)-1):\n",
        "    arr[j]=arr[j+1]\n",
        "  arr[len(arr)-1]=first\n",
        "\n",
        "print()\n",
        "\n",
        "for i in range(0,len(arr)):\n",
        "  print(arr[i],end=' ')"
      ],
      "execution_count": 12,
      "outputs": [
        {
          "output_type": "stream",
          "name": "stdout",
          "text": [
            "1 2 3 4 5 6 7 8 9 \n",
            "4 5 6 7 8 9 1 2 3 "
          ]
        }
      ]
    },
    {
      "cell_type": "code",
      "metadata": {
        "colab": {
          "base_uri": "https://localhost:8080/"
        },
        "id": "HJOtPaHUuBZv",
        "outputId": "2dda714a-afe8-4c9d-e3ad-6e18177b0a46"
      },
      "source": [
        "#Sorting in ascending order\n",
        "arr=[1,4,3,5,8,6,7]\n",
        "for i in range(0,len(arr)):\n",
        "  for j in range(i+1,len(arr)):\n",
        "    if arr[i]>arr[j]:\n",
        "      temp=arr[i]\n",
        "      arr[i]=arr[j]\n",
        "      arr[j]=temp\n",
        "\n",
        "print(\"Sorted array is:[ \",end='')\n",
        "for i in range(0,len(arr)):\n",
        "  print(arr[i],end=' ')\n",
        "print(\"]\")\n",
        "\n",
        "\n",
        "#time_Complexity :O(N^2)"
      ],
      "execution_count": 59,
      "outputs": [
        {
          "output_type": "stream",
          "name": "stdout",
          "text": [
            "Sorted array is:[ 1 3 4 5 6 7 8 ]\n"
          ]
        }
      ]
    },
    {
      "cell_type": "code",
      "metadata": {
        "colab": {
          "base_uri": "https://localhost:8080/"
        },
        "id": "u8_2-yQfw83S",
        "outputId": "d990a077-b21a-4fab-e6e2-bd90fc339edb"
      },
      "source": [
        "#Alternative sorting\n",
        "arr=[1,4,3,5,8,6,7]\n",
        "arr.sort()\n",
        "print(arr)\n",
        "\n",
        "i=0\n",
        "j=len(arr)-1\n",
        "while(i<j):\n",
        " print(arr[i],end=' ')\n",
        " i=i+1\n",
        " print(arr[j],end=' ')\n",
        " j=j-1\n",
        "print(arr[i]) \n",
        "\n",
        "#Complexity:(O(N^2))"
      ],
      "execution_count": 21,
      "outputs": [
        {
          "output_type": "stream",
          "name": "stdout",
          "text": [
            "[1, 3, 4, 5, 6, 7, 8]\n",
            "1 8 3 7 4 6 5\n"
          ]
        }
      ]
    },
    {
      "cell_type": "code",
      "metadata": {
        "colab": {
          "base_uri": "https://localhost:8080/"
        },
        "id": "cSTTVqR-xuvX",
        "outputId": "4c62f116-0899-4d71-c893-7f57ba76c195"
      },
      "source": [
        "#Python program to print the elements of an array in reverse order\n",
        "arr1=[1,4,3,5,8,6,7]\n",
        "for element in range(len(arr1)-1,-1,-1):\n",
        "  print(arr1[element])\n",
        "\n",
        "#Complexity:O(N) "
      ],
      "execution_count": 29,
      "outputs": [
        {
          "output_type": "stream",
          "name": "stdout",
          "text": [
            "7\n",
            "6\n",
            "8\n",
            "5\n",
            "3\n",
            "4\n",
            "1\n"
          ]
        }
      ]
    },
    {
      "cell_type": "code",
      "metadata": {
        "colab": {
          "base_uri": "https://localhost:8080/"
        },
        "id": "yBQJiurjyTYq",
        "outputId": "536090a4-63b5-4ec4-87df-218d9e046fb6"
      },
      "source": [
        "#Program to print the largest elements in Array\n",
        "arr=[3,4,8,11,15,10,2]\n",
        "print(arr)\n",
        "max=arr[0]\n",
        "for i in range(0,len(arr)):\n",
        "    if arr[i]>max:\n",
        "      max=arr[i]\n",
        "print(\"Maximum:\",max)\n",
        "\n",
        "#Complexity O(1)"
      ],
      "execution_count": 26,
      "outputs": [
        {
          "output_type": "stream",
          "name": "stdout",
          "text": [
            "[3, 4, 8, 11, 15, 10, 2]\n",
            "Maximum: 15\n"
          ]
        }
      ]
    },
    {
      "cell_type": "code",
      "metadata": {
        "colab": {
          "base_uri": "https://localhost:8080/"
        },
        "id": "_GLvNXcU2TcU",
        "outputId": "ef590d33-a292-47e0-e652-084d3748749a"
      },
      "source": [
        "#Find the min number \n",
        "arr=[3,4,8,11,15,10,2]\n",
        "print(arr)\n",
        "min=arr[0]\n",
        "for i in range(0,len(arr)):\n",
        "  if arr[i]<min:\n",
        "    min=arr[i]\n",
        "print(\"Minimum:\",min)    "
      ],
      "execution_count": 24,
      "outputs": [
        {
          "output_type": "stream",
          "name": "stdout",
          "text": [
            "[3, 4, 8, 11, 15, 10, 2]\n",
            "Minimum: 2\n"
          ]
        }
      ]
    },
    {
      "cell_type": "code",
      "metadata": {
        "colab": {
          "base_uri": "https://localhost:8080/"
        },
        "id": "i2_L7vTp6hzN",
        "outputId": "2ac928a5-1ba3-44e8-f0aa-5a947b222bab"
      },
      "source": [
        "#Print the number of element present in an array\n",
        "arr=[3,4,8,11,15,10,2]\n",
        "print(\"The number of element present in this array\"len(arr))"
      ],
      "execution_count": 27,
      "outputs": [
        {
          "output_type": "stream",
          "name": "stdout",
          "text": [
            "7\n"
          ]
        }
      ]
    },
    {
      "cell_type": "code",
      "metadata": {
        "colab": {
          "base_uri": "https://localhost:8080/"
        },
        "id": "Byp3EH58OG9y",
        "outputId": "56174ab0-bdd6-40c5-c6f8-497ac1f9565b"
      },
      "source": [
        "#Print the sum of all elements in an array\n",
        "arr=[3,4,8,11,15,10,2]\n",
        "count=0\n",
        "for element in arr:\n",
        "    count=count+element\n",
        "print(count)  \n",
        "\n",
        "#Complexity: O(N)   "
      ],
      "execution_count": 36,
      "outputs": [
        {
          "output_type": "stream",
          "name": "stdout",
          "text": [
            "53\n"
          ]
        }
      ]
    },
    {
      "cell_type": "code",
      "metadata": {
        "colab": {
          "base_uri": "https://localhost:8080/"
        },
        "id": "sILA3ONzO0o3",
        "outputId": "1c8c9752-25dc-4a9e-f04e-b79e33b00be7"
      },
      "source": [
        "#Sort array in descending order\n",
        "arr=[3,4,8,11,15,10,2]\n",
        "\n",
        "for i in range(0,len(arr)):\n",
        "  for j in range(i+1,len(arr)):\n",
        "    if arr[i]<arr[j]:\n",
        "      temp=arr[i]\n",
        "      arr[i]=arr[j]\n",
        "      arr[j]=temp\n",
        "for i in range(0,len(arr)):\n",
        "  print(arr[i],end=' ')  \n",
        "# Complexity 0(N^2)"
      ],
      "execution_count": 53,
      "outputs": [
        {
          "output_type": "stream",
          "name": "stdout",
          "text": [
            "15 11 10 8 4 3 2 "
          ]
        }
      ]
    },
    {
      "cell_type": "code",
      "metadata": {
        "colab": {
          "base_uri": "https://localhost:8080/"
        },
        "id": "lBMlRrBhQZwM",
        "outputId": "071132a1-15cc-4a16-8c66-26daa3776cba"
      },
      "source": [
        "#Rotation of an arry(right rotation)\n",
        "arr=[3,4,8,11,15,10,2]\n",
        "n=1 #How many element to rotate\n",
        "\n",
        "print(\"The normal array is:\",end='')\n",
        "for i in range(0,len(arr)):\n",
        "  print(arr[i],end=' ')\n",
        "\n",
        "for i in range(0,n):\n",
        "  last=arr[len(arr)-1]\n",
        "\n",
        "  for j in range(len(arr)-1, -1, -1):    \n",
        "        #Shift element of array by one    \n",
        "        arr[j] = arr[j-1];    \n",
        "            \n",
        "    #Last element of the array will be added to the start of the array.    \n",
        "    \n",
        "  arr[0] = last;    \n",
        "print()\n",
        "for i in range(0,len(arr)):\n",
        "  print(arr[i],end=' ')     \n"
      ],
      "execution_count": 66,
      "outputs": [
        {
          "output_type": "stream",
          "name": "stdout",
          "text": [
            "The normal array is:3 4 8 11 15 10 2 \n",
            "2 3 4 8 11 15 10 "
          ]
        }
      ]
    },
    {
      "cell_type": "code",
      "metadata": {
        "colab": {
          "base_uri": "https://localhost:8080/"
        },
        "id": "DLBqm40UVO4y",
        "outputId": "55f5baec-64ae-4641-bb93-4677d3cb4b7f"
      },
      "source": [
        "mat1=[[1,2,3],\n",
        "      [4,5,7],\n",
        "      [5,7,9]]\n",
        "\n",
        "mat2=[[1,2,9],\n",
        "      [4,5,7],\n",
        "      [5,7,6]]   \n"
      ],
      "execution_count": 68,
      "outputs": [
        {
          "output_type": "stream",
          "name": "stdout",
          "text": [
            "[[1, 2, 3], [4, 5, 7], [5, 7, 9], [1, 2, 9], [4, 5, 7], [5, 7, 6]]\n"
          ]
        }
      ]
    },
    {
      "cell_type": "code",
      "metadata": {
        "id": "ZkPTq13MW8v_"
      },
      "source": [
        ""
      ],
      "execution_count": null,
      "outputs": []
    }
  ]
}